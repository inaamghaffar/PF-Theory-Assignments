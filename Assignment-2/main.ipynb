{
 "cells": [
  {
   "cell_type": "markdown",
   "id": "3cb3d2ef-5789-4830-90cc-83ec873fa760",
   "metadata": {},
   "source": [
    "### Name: Inam Ur Rehman\n",
    "### Roll Number: 066\n",
    "\n",
    "\n",
    "#### 1. What is dictionary?\n",
    " A dictionary in Python is an unordered collection of key-value pairs, defined using curly brackets {}. Each key in a dictionary must be unique and immutable *(e.g., strings, numbers, or tuples)*, while the values can be any data type. Dictionaries are optimized for fast retrieval of values when the key is known, making them highly useful for managing and organizing data.\n",
    "\n",
    "#### 2. Create a dictionary."
   ]
  },
  {
   "cell_type": "code",
   "execution_count": null,
   "id": "44a67ed4-92d9-4b1e-bf91-94a266e6db05",
   "metadata": {},
   "outputs": [],
   "source": [
    "dic = {\"Name\" : \"Inam\",\n",
    "\"Subject\" : \"Data Science\",\n",
    "\"Year\" : 2024}"
   ]
  },
  {
   "cell_type": "markdown",
   "id": "0ea6745d-81db-4c03-84ba-54fd93618d0e",
   "metadata": {},
   "source": [
    "#### 3. How to update a specific part?\n",
    "The update() method will update the dictionary with the items from a given argument. If the item does not exist, the item will be added."
   ]
  },
  {
   "cell_type": "code",
   "execution_count": null,
   "id": "e8816d2c-20cf-4560-a3a6-35f842555fcf",
   "metadata": {},
   "outputs": [],
   "source": [
    "dic = {\"Name\" : \"Inam\",\n",
    "\"Subject\" : \"Data Science\",\n",
    "\"Year\" : 2024}\n",
    "print(dic)\n",
    "print(dic.update({\"Year\": \"one\"}))"
   ]
  },
  {
   "cell_type": "markdown",
   "id": "a3063e67-1b02-4977-9041-f2d22f768d3c",
   "metadata": {},
   "source": [
    "#### 4. How to  add new value?\n",
    "Adding an item to the dictionary is done by using a new index key and assigning a value to it."
   ]
  },
  {
   "cell_type": "code",
   "execution_count": null,
   "id": "8720bdb3-1317-4bba-9d94-78cf1f20ad66",
   "metadata": {},
   "outputs": [],
   "source": [
    "dic = {\"Name\" : \"Inam\",\n",
    "\"Subject\" : \"Data Science\",\n",
    "\"Year\" : \"two\"}\n",
    "dic[\"Age\"]= 19\n",
    "print(dic)"
   ]
  },
  {
   "cell_type": "markdown",
   "id": "58d59d9b-e9cf-4889-bc55-efcde26d9d92",
   "metadata": {},
   "source": [
    "#### 5. What is Pop Item and Pop?\n",
    "**Pop Item:**\n",
    "The pop item() method removes the last inserted item.\n",
    "\n",
    "**Example:**"
   ]
  },
  {
   "cell_type": "code",
   "execution_count": null,
   "id": "44e10338-39d4-46c9-9c8c-220c6fa616c3",
   "metadata": {},
   "outputs": [],
   "source": [
    "dic = {\"Name\" : \"Inam\",\n",
    "\"Subject\" : \"Data Science\",\n",
    "\"Year\" : 2024}\n",
    "dic.popitem()\n",
    "print(dic)"
   ]
  },
  {
   "cell_type": "markdown",
   "id": "2906c5a2-8fad-45c8-bf7e-6399668bec81",
   "metadata": {},
   "source": [
    "**Pop:**\n",
    "Removes and returns the value associated with a specific key.\n",
    "\n",
    "**Example:**"
   ]
  },
  {
   "cell_type": "code",
   "execution_count": null,
   "id": "7b608b39-bfb8-4ba9-936c-ece4d897d3ed",
   "metadata": {},
   "outputs": [],
   "source": [
    "dic = {\"Name\" : \"Inam\",\n",
    "\"Subject\" : \"Data Science\",\n",
    "\"Year\" : 2024}\n",
    "dic.pop(\"Year\")\n",
    "print(dic)"
   ]
  },
  {
   "cell_type": "markdown",
   "id": "be3ad86b-2c7f-4914-9033-ee4d3a862f2e",
   "metadata": {},
   "source": [
    "#### 6. How to clear dictionary?\n",
    "The clear() method empties the dictionary."
   ]
  },
  {
   "cell_type": "code",
   "execution_count": null,
   "id": "e5a13581-17d4-49c6-86d9-82c8e78ba45f",
   "metadata": {},
   "outputs": [],
   "source": [
    "dic = {\"Name\" : \"Inam\",\n",
    "\"Subject\" : \"Data Science\",\n",
    "\"Year\" : 2024}\n",
    "dic.clear()\n",
    "print(dic)"
   ]
  },
  {
   "cell_type": "markdown",
   "id": "f29ed4c7-e5e5-45ed-a561-70cb9aafb3b4",
   "metadata": {},
   "source": [
    "#### 7.How to delete or remove dictionary?\n",
    "The del keyword can also delete the dictionary completely."
   ]
  },
  {
   "cell_type": "code",
   "execution_count": null,
   "id": "b1ad282d-d861-4632-877c-e14f93253a45",
   "metadata": {},
   "outputs": [],
   "source": [
    "dict = {\"Name\" : \"Inam\",\n",
    "\"Subject\" : \"Data Science\",\n",
    "\"Year\" : 2024}\n",
    "del dict\n",
    "print(dict)"
   ]
  }
 ],
 "metadata": {
  "kernelspec": {
   "display_name": "base",
   "language": "python",
   "name": "python3"
  },
  "language_info": {
   "codemirror_mode": {
    "name": "ipython",
    "version": 3
   },
   "file_extension": ".py",
   "mimetype": "text/x-python",
   "name": "python",
   "nbconvert_exporter": "python",
   "pygments_lexer": "ipython3",
   "version": "3.12.4"
  }
 },
 "nbformat": 4,
 "nbformat_minor": 5
}
